{
 "cells": [
  {
   "cell_type": "code",
   "execution_count": 1,
   "metadata": {},
   "outputs": [],
   "source": [
    "import sys, os, time\n",
    "\n",
    "import numpy as np\n",
    "import pandas as pd"
   ]
  },
  {
   "cell_type": "code",
   "execution_count": 2,
   "metadata": {},
   "outputs": [],
   "source": [
    "BASE_DIR = \"PATH/TO/WHERE/YOU/DOWNLOADED/THE/DATA/\""
   ]
  },
  {
   "cell_type": "code",
   "execution_count": 3,
   "metadata": {},
   "outputs": [],
   "source": [
    "def get_split(fn):\n",
    "    with open(fn,\"r\") as f:\n",
    "        lines = f.read().strip().split(\"\\n\")\n",
    "        lines = [\n",
    "            line.strip().split(\" \")\n",
    "            for line in lines\n",
    "        ]\n",
    "        \n",
    "    columns = {\n",
    "        \"patientid\": [],\n",
    "        \"filename\": [],\n",
    "        \"label\": [],\n",
    "        \"dataset\": []\n",
    "    }\n",
    "    for line in lines:\n",
    "        patientid, filename, label, dataset = line\n",
    "        columns[\"patientid\"].append(patientid)\n",
    "        columns[\"filename\"].append(filename)\n",
    "        columns[\"label\"].append(label)\n",
    "        columns[\"dataset\"].append(dataset)\n",
    "    split = pd.DataFrame.from_dict(columns)\n",
    "    return split"
   ]
  },
  {
   "cell_type": "code",
   "execution_count": 4,
   "metadata": {},
   "outputs": [],
   "source": [
    "train_split = get_split(\"train_split.txt\")\n",
    "test_split = get_split(\"test_split.txt\")"
   ]
  },
  {
   "cell_type": "code",
   "execution_count": 5,
   "metadata": {},
   "outputs": [
    {
     "data": {
      "text/plain": [
       "label      dataset\n",
       "COVID-19   cohen       429\n",
       "           sirm         29\n",
       "           actmed       25\n",
       "           fig1         24\n",
       "normal     rsna       7966\n",
       "pneumonia  rsna       5423\n",
       "           cohen        46\n",
       "Name: dataset, dtype: int64"
      ]
     },
     "execution_count": 5,
     "metadata": {},
     "output_type": "execute_result"
    }
   ],
   "source": [
    "train_split.groupby(\"label\")[\"dataset\"].value_counts()"
   ]
  },
  {
   "cell_type": "code",
   "execution_count": 6,
   "metadata": {},
   "outputs": [
    {
     "data": {
      "text/plain": [
       "label      dataset\n",
       "COVID-19   cohen       39\n",
       "           actmed      33\n",
       "           sirm        17\n",
       "           fig1        11\n",
       "normal     rsna       885\n",
       "pneumonia  rsna       589\n",
       "           cohen        5\n",
       "Name: dataset, dtype: int64"
      ]
     },
     "execution_count": 6,
     "metadata": {},
     "output_type": "execute_result"
    }
   ],
   "source": [
    "test_split.groupby(\"label\")[\"dataset\"].value_counts()"
   ]
  },
  {
   "cell_type": "code",
   "execution_count": 7,
   "metadata": {},
   "outputs": [],
   "source": [
    "for fn in train_split[\"filename\"].values:\n",
    "    full_fn = os.path.join(BASE_DIR, \"covidx/train/\", fn)\n",
    "    assert os.path.exists(full_fn), full_fn "
   ]
  },
  {
   "cell_type": "code",
   "execution_count": 8,
   "metadata": {},
   "outputs": [],
   "source": [
    "for fn in test_split[\"filename\"].values:\n",
    "    full_fn = os.path.join(BASE_DIR, \"covidx/test/\", fn)\n",
    "    assert os.path.exists(full_fn), full_fn "
   ]
  },
  {
   "cell_type": "code",
   "execution_count": 9,
   "metadata": {},
   "outputs": [],
   "source": [
    "train_split[\"original_image_path\"] = BASE_DIR + \"covidx/train/\" + train_split[\"filename\"] \n",
    "\n",
    "for fn in train_split[\"original_image_path\"].values:\n",
    "    assert os.path.exists(fn)"
   ]
  },
  {
   "cell_type": "code",
   "execution_count": 10,
   "metadata": {},
   "outputs": [],
   "source": [
    "test_split[\"original_image_path\"] = BASE_DIR + \"covidx/test/\" + test_split[\"filename\"] \n",
    "\n",
    "for fn in test_split[\"original_image_path\"].values:\n",
    "    assert os.path.exists(fn)"
   ]
  },
  {
   "cell_type": "code",
   "execution_count": 11,
   "metadata": {},
   "outputs": [],
   "source": [
    "merged = pd.concat([train_split, test_split])"
   ]
  },
  {
   "cell_type": "code",
   "execution_count": 12,
   "metadata": {},
   "outputs": [],
   "source": [
    "merged.reset_index(drop=True,inplace=True)"
   ]
  },
  {
   "cell_type": "code",
   "execution_count": 13,
   "metadata": {},
   "outputs": [
    {
     "data": {
      "text/plain": [
       "label      dataset\n",
       "COVID-19   cohen       468\n",
       "           actmed       58\n",
       "           sirm         46\n",
       "           fig1         35\n",
       "normal     rsna       8851\n",
       "pneumonia  rsna       6012\n",
       "           cohen        51\n",
       "Name: dataset, dtype: int64"
      ]
     },
     "execution_count": 13,
     "metadata": {},
     "output_type": "execute_result"
    }
   ],
   "source": [
    "merged.groupby(\"label\")[\"dataset\"].value_counts()"
   ]
  },
  {
   "cell_type": "code",
   "execution_count": 14,
   "metadata": {},
   "outputs": [],
   "source": [
    "# Drop all but the first patient\n",
    "merged.reset_index(inplace=True)\n",
    "idxs = merged.groupby(\"patientid\").first()[\"index\"].sort_values().values\n",
    "merged = merged.loc[idxs]\n",
    "del merged[\"index\"]\n",
    "merged.reset_index(drop=True, inplace=True)"
   ]
  },
  {
   "cell_type": "code",
   "execution_count": 15,
   "metadata": {},
   "outputs": [
    {
     "data": {
      "text/plain": [
       "label      dataset\n",
       "COVID-19   cohen       289\n",
       "           actmed       51\n",
       "           sirm         46\n",
       "           fig1         35\n",
       "normal     rsna       8851\n",
       "pneumonia  rsna       6012\n",
       "           cohen        28\n",
       "Name: dataset, dtype: int64"
      ]
     },
     "execution_count": 15,
     "metadata": {},
     "output_type": "execute_result"
    }
   ],
   "source": [
    "merged.groupby(\"label\")[\"dataset\"].value_counts()"
   ]
  },
  {
   "cell_type": "code",
   "execution_count": 16,
   "metadata": {},
   "outputs": [],
   "source": [
    "merged.to_csv(\"../data/metadata_covidx.csv\", index=False)"
   ]
  },
  {
   "cell_type": "code",
   "execution_count": 17,
   "metadata": {},
   "outputs": [],
   "source": [
    "os.remove(\"train_split.txt\")\n",
    "os.remove(\"test_split.txt\")"
   ]
  }
 ],
 "metadata": {
  "kernelspec": {
   "display_name": "py37_default",
   "language": "python",
   "name": "conda-env-py37_default-py"
  },
  "language_info": {
   "codemirror_mode": {
    "name": "ipython",
    "version": 3
   },
   "file_extension": ".py",
   "mimetype": "text/x-python",
   "name": "python",
   "nbconvert_exporter": "python",
   "pygments_lexer": "ipython3",
   "version": "3.7.7"
  }
 },
 "nbformat": 4,
 "nbformat_minor": 4
}
